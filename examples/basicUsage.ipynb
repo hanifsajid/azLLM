{
 "cells": [
  {
   "cell_type": "markdown",
   "id": "6f799d9f",
   "metadata": {},
   "source": [
    "Basic Usage\n",
    "=================\n",
    " \n",
    "- It is the main class to handle interactions with various LLMs.   \n",
    "- It can be instantiated with either default or custom configurations. "
   ]
  },
  {
   "cell_type": "code",
   "execution_count": 7,
   "id": "7627cd61",
   "metadata": {},
   "outputs": [],
   "source": [
    "from azllm import azLLM\n",
    "manager = azLLM()  # Instantiated with default parameters "
   ]
  },
  {
   "cell_type": "markdown",
   "id": "774894f4",
   "metadata": {},
   "source": [
    "### Generate Text from a Single Prompt\n",
    "\n",
    "To generate text from a single prompt, use the `generate_text` method:"
   ]
  },
  {
   "cell_type": "code",
   "execution_count": 8,
   "id": "630b8b6a",
   "metadata": {},
   "outputs": [
    {
     "name": "stdout",
     "output_type": "stream",
     "text": [
      "The capital of France is Paris.\n"
     ]
    }
   ],
   "source": [
    "prompt = 'What is the captial of France?'\n",
    "generated_text = manager.generate_text('openai', prompt) \n",
    "print(generated_text)"
   ]
  },
  {
   "cell_type": "markdown",
   "id": "6a8980f7",
   "metadata": {},
   "source": [
    "### Batch Generation\n",
    "\n",
    "- You can generate responses for multiple prompts at once using the `batch_generate` method.\n",
    "- This is helpful when you need to process several prompts simultaneously."
   ]
  },
  {
   "cell_type": "code",
   "execution_count": 9,
   "id": "4416fb69",
   "metadata": {},
   "outputs": [
    {
     "name": "stdout",
     "output_type": "stream",
     "text": [
      "The capital of France is Paris.\n",
      "________________________________________\n",
      "Why did the scarecrow win an award?\n",
      "\n",
      "Because he was outstanding in his field!\n",
      "________________________________________\n"
     ]
    }
   ],
   "source": [
    "batch_prompts = [\n",
    "    'What is the capital of France?',\n",
    "    'Tell me a joke.'\n",
    "    ]\n",
    "\n",
    "results = manager.batch_generate('openai', batch_prompts)\n",
    "for result in results:\n",
    "    print(result)\n",
    "    print('_'*40)"
   ]
  },
  {
   "cell_type": "markdown",
   "id": "1d9bffd7",
   "metadata": {},
   "source": [
    "### Parallel Generation\n",
    "\n",
    "For even more efficiency, you can use the `parallel_generation` method to process a single prompt using multiple models concurrently. "
   ]
  },
  {
   "cell_type": "code",
   "execution_count": 12,
   "id": "cca67644",
   "metadata": {},
   "outputs": [
    {
     "name": "stdout",
     "output_type": "stream",
     "text": [
      "Model: ollama:2,  Result: The capital of France is Paris, located in the Île-de-France region. It's commonly referred to as Paris or simply \"City of Light\" in English.\n",
      "\n",
      "Model: grok:1,  Result: The capital of France is Paris.\n",
      "\n",
      "Model: openai:0,  Result: The capital of France is Paris.\n",
      "\n"
     ]
    }
   ],
   "source": [
    "prompt = 'What is the capital of France?'\n",
    "models = [\n",
    "    'openai',\n",
    "    'grok',\n",
    "    'ollama']\n",
    "\n",
    "results = manager.generate_parallel(prompt, models)\n",
    "for model, result in results.items():\n",
    "    print(f\"Model: {model},  Result: {result}\\n\")"
   ]
  }
 ],
 "metadata": {
  "kernelspec": {
   "display_name": "azllm-I_5BKfWE-py3.10",
   "language": "python",
   "name": "python3"
  },
  "language_info": {
   "codemirror_mode": {
    "name": "ipython",
    "version": 3
   },
   "file_extension": ".py",
   "mimetype": "text/x-python",
   "name": "python",
   "nbconvert_exporter": "python",
   "pygments_lexer": "ipython3",
   "version": "3.10.12"
  }
 },
 "nbformat": 4,
 "nbformat_minor": 5
}
